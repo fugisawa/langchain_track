{
 "cells": [
  {
   "attachments": {},
   "cell_type": "markdown",
   "id": "13d7fc40",
   "metadata": {},
   "source": [
    "# Modelos"
   ]
  },
  {
   "attachments": {},
   "cell_type": "markdown",
   "id": "29de0417",
   "metadata": {},
   "source": [
    "## LLMs"
   ]
  },
  {
   "attachments": {},
   "cell_type": "markdown",
   "id": "e774a8d4",
   "metadata": {},
   "source": [
    "Modelos de Linguagem Grande (LLMs, na sigla em inglês) são um componente central do LangChain. O LangChain não fornece seus próprios LLMs, mas sim oferece uma interface padrão para interagir com diversos LLMs diferentes. Para ser específico, essa interface é uma que recebe como entrada uma string e retorna uma string.\n",
    "\n",
    "Existem muitos provedores de LLMs (OpenAI, Cohere, Hugging Face, etc) - a classe LLM é projetada para fornecer uma interface padrão para todos eles."
   ]
  },
  {
   "cell_type": "code",
   "execution_count": 4,
   "id": "925e5239",
   "metadata": {},
   "outputs": [],
   "source": [
    "from langchain_openai import OpenAI\n",
    "\n",
    "llm = OpenAI(model='gpt-3.5-turbo-instruct')"
   ]
  },
  {
   "attachments": {},
   "cell_type": "markdown",
   "id": "d501a6ce",
   "metadata": {},
   "source": [
    "### Chamando a llm"
   ]
  },
  {
   "cell_type": "code",
   "execution_count": 6,
   "id": "9e6ecc1e",
   "metadata": {},
   "outputs": [
    {
     "name": "stdout",
     "output_type": "stream",
     "text": [
      "\n",
      "\n",
      "Era uma vez um jovem curioso e sempre em busca de novos desafios. Ele sempre se interessou por tecnologia e desde cedo sonhava em criar seus próprios jogos e aplicativos. Porém, não sabia por onde começar.\n",
      "\n",
      "Um dia, esse jovem ouviu falar sobre programação e como ela era a base de tudo que ele admirava no mundo da tecnologia. Decidiu então embarcar em uma jornada de aprendizado.\n",
      "\n",
      "No começo, tudo parecia muito complicado e confuso. Ele não entendia nada de códigos e ficava frustrado por não conseguir realizar suas ideias. Mas com determinação e muita paciência, ele começou a estudar e praticar diariamente.\n",
      "\n",
      "Ao longo dos meses, o jovem foi se aperfeiçoando e entendendo melhor os conceitos da programação. Ele descobriu que não se tratava apenas de escrever linhas de códigos, mas sim de resolver problemas e criar soluções.\n",
      "\n",
      "Com o tempo, ele foi se envolvendo em projetos e desafios cada vez mais complexos e seu conhecimento foi crescendo exponencial\n"
     ]
    }
   ],
   "source": [
    "pergunta = 'Conte uma história breve sobre a jornada de aprender a programar'\n",
    "resposta = llm.invoke(pergunta)\n",
    "print(resposta)"
   ]
  },
  {
   "attachments": {},
   "cell_type": "markdown",
   "id": "8ade95d2",
   "metadata": {},
   "source": [
    "### Chamando com stream de resposta"
   ]
  },
  {
   "cell_type": "code",
   "execution_count": 3,
   "id": "922a0701",
   "metadata": {},
   "outputs": [
    {
     "name": "stdout",
     "output_type": "stream",
     "text": [
      "\n",
      "\n",
      "Era uma vez uma jovem chamada Sofia que sempre foi fascinada por tecnologia e computadores. Desde criança, ela passava horas navegando na internet e jogando jogos online. Mas um dia, ela percebeu que queria fazer mais do que apenas usar as tecnologias criadas por outras pessoas, ela queria ser capaz de criar suas próprias aplicações e programas.\n",
      "\n",
      "Decidida a aprender a programar, Sofia se matriculou em um curso básico de programação. No começo, ela ficou um pouco intimidada com todas aquelas linhas de código e com a complexidade dos comandos. Mas com determinação e muita prática, ela foi superando os desafios e aprendendo aos poucos.\n",
      "\n",
      "Ao longo da jornada, Sofia descobriu que a programação exigia muito mais do que apenas habilidades técnicas. Era preciso ter paciência, criatividade e uma boa dose de resiliência para enfrentar os erros e bugs que surgiam pelo caminho.\n",
      "\n",
      "Com o passar do tempo, Sofia foi se aperfeiçoando e se apaixonando cada vez mais pela programação. El"
     ]
    }
   ],
   "source": [
    "pergunta = 'Conte uma história breve sobre a jornada de aprender a programar'\n",
    "for trecho in llm.stream(pergunta):\n",
    "    print(trecho, end='')"
   ]
  },
  {
   "attachments": {},
   "cell_type": "markdown",
   "id": "a80ae2cc",
   "metadata": {},
   "source": [
    "### Chamadas simultâneas"
   ]
  },
  {
   "cell_type": "code",
   "execution_count": 9,
   "id": "7ce4ace5",
   "metadata": {},
   "outputs": [
    {
     "name": "stdout",
     "output_type": "stream",
     "text": [
      "\n",
      "\n",
      "O céu é uma região do espaço que pode ser vista a partir da superfície da Terra e que abrange todas as estrelas, planetas e outros corpos celestes visíveis a olho nu. É também conhecido como a abóbada celeste ou firmamento. O céu é considerado um lugar divino em muitas religiões e crenças, onde se acredita que as almas dos mortos vão após a morte. Também é frequentemente associado à ideia de paz, beleza e eternidade. No entanto, cientificamente, o céu é apenas a atmosfera da Terra, composta por gases, nuvens e outros elementos que formam o clima e a meteorologia. \n",
      "\n",
      "\n",
      "A terra é o terceiro planeta do sistema solar, localizado a uma distância média de 149,6 milhões de quilômetros do sol. É o único planeta conhecido até o momento que possui condições favoráveis para a existência de vida, devido à sua atmosfera, água líquida em sua superfície e uma diversidade de organismos vivos. A terra é composta por camadas geológicas, como a crosta, o manto e o núcleo, e possui um diâmetro de cerca de 12.740 quilômetros. Além disso, é o lar de milhões de espécies de plantas e animais, incluindo os seres humanos, que dependem dela para sobreviver. \n",
      "\n",
      "\n",
      "As estrelas são corpos celestes que emitem luz e calor próprios devido a reações de fusão nuclear em seu núcleo. Elas são formadas por gases e poeira cósmica que se agrupam e se condensam em uma esfera, devido à força da gravidade. São encontradas em grande quantidade no universo e são responsáveis por iluminar e aquecer os planetas que orbitam ao seu redor. Existem diferentes tipos de estrelas, com diferentes tamanhos, cores e temperaturas.\n"
     ]
    }
   ],
   "source": [
    "perguntas = [\n",
    "    'O que é o céu?',\n",
    "    'O que é a terra?',\n",
    "    'O que são as estrelas?'\n",
    "]\n",
    "\n",
    "for resposta in llm.batch(perguntas):\n",
    "    print(resposta)"
   ]
  },
  {
   "attachments": {},
   "cell_type": "markdown",
   "id": "4f6d48b1",
   "metadata": {},
   "source": [
    "## ChatModels"
   ]
  },
  {
   "attachments": {},
   "cell_type": "markdown",
   "id": "8796004d",
   "metadata": {},
   "source": [
    "ChatModels são um componente central do LangChain.\n",
    "\n",
    "Um modelo de chat é um modelo de linguagem que utiliza mensagens de chat como entradas e retorna mensagens de chat como saídas (ao invés de usar texto puro).\n",
    "\n",
    "O LangChain possui integrações com vários provedores de modelos (OpenAI, Cohere, Hugging Face, etc.) e expõe uma interface padrão para interagir com todos esses modelos."
   ]
  },
  {
   "cell_type": "code",
   "execution_count": 10,
   "id": "e887b020",
   "metadata": {},
   "outputs": [],
   "source": [
    "from langchain_openai import ChatOpenAI\n",
    "\n",
    "chat = ChatOpenAI(model='gpt-4.1')"
   ]
  },
  {
   "cell_type": "code",
   "execution_count": 17,
   "id": "7c38bed6",
   "metadata": {},
   "outputs": [],
   "source": [
    "from langchain_core.messages import HumanMessage, SystemMessage\n",
    "\n",
    "mensagens = [\n",
    "    SystemMessage(content='Você é uma professora de LLM muito simpática, que explica para quem não é da área.'),\n",
    "    HumanMessage(content='O que é transformer?')\n",
    "]\n",
    "resposta = chat.invoke(mensagens)"
   ]
  },
  {
   "cell_type": "code",
   "execution_count": 18,
   "id": "085f5b8a",
   "metadata": {},
   "outputs": [
    {
     "name": "stdout",
     "output_type": "stream",
     "text": [
      "Ótima pergunta! Vou te explicar de uma forma simples:\n",
      "\n",
      "**Transformer** é uma arquitetura de inteligência artificial criada em 2017, muito usada para entender e gerar textos – como eu estou fazendo agora 😊.\n",
      "\n",
      "Antes dos Transformers, os modelos antigos liam um texto palavra por palavra, na ordem certinha, o que dificultava entender relações de palavras que estavam longe uma da outra na frase.\n",
      "\n",
      "O Transformer tem uma ideia brilhante: ele olha para todas as palavras do texto ao mesmo tempo e tenta entender como elas se relacionam, mesmo as que estão distantes! Isso é feito com uma técnica chamada **atenção** (\"attention\", em inglês).\n",
      "\n",
      "**Por exemplo:**  \n",
      "Se você lê a frase “O João foi ao parque porque ele queria brincar”, o modelo precisa entender que “ele” se refere ao “João”. Os Transformers são muito bons nisso!\n",
      "\n",
      "**Por que ele ficou famoso?**\n",
      "- Ele permite treinar modelos enormes, como o ChatGPT e o Google Translate.\n",
      "- Consegue lidar com textos longos e complexos.\n",
      "- Funciona não só com textos, mas também com imagens, sons, etc!\n",
      "\n",
      "**Resumindo:**  \n",
      "O Transformer é um modelo de IA que revolucionou o jeito de entender e gerar linguagem, justamente porque consegue “prestar atenção” ao contexto inteiro do texto, e não só seguir palavra por palavra.\n",
      "\n",
      "Se você quiser saber mais sobre alguma parte — como funciona essa tal de “atenção”, ou quiser exemplos práticos — me avise!\n"
     ]
    }
   ],
   "source": [
    "print(resposta.content)"
   ]
  },
  {
   "cell_type": "code",
   "execution_count": 19,
   "id": "71c7a923",
   "metadata": {},
   "outputs": [
    {
     "data": {
      "text/plain": [
       "{'token_usage': {'completion_tokens': 303,\n",
       "  'prompt_tokens': 36,\n",
       "  'total_tokens': 339,\n",
       "  'completion_tokens_details': {'accepted_prediction_tokens': 0,\n",
       "   'audio_tokens': 0,\n",
       "   'reasoning_tokens': 0,\n",
       "   'rejected_prediction_tokens': 0},\n",
       "  'prompt_tokens_details': {'audio_tokens': 0, 'cached_tokens': 0}},\n",
       " 'model_name': 'gpt-4.1-2025-04-14',\n",
       " 'system_fingerprint': 'fp_b38e740b47',\n",
       " 'id': 'chatcmpl-BYfAcQ6q8xHDep3xXqq6HzEonqmpU',\n",
       " 'service_tier': 'default',\n",
       " 'finish_reason': 'stop',\n",
       " 'logprobs': None}"
      ]
     },
     "execution_count": 19,
     "metadata": {},
     "output_type": "execute_result"
    }
   ],
   "source": [
    "resposta.response_metadata"
   ]
  },
  {
   "cell_type": "code",
   "execution_count": 20,
   "id": "af00b115",
   "metadata": {},
   "outputs": [
    {
     "name": "stdout",
     "output_type": "stream",
     "text": [
      "1 + 1 é 2… Exceto quando estão apaixonados, aí viram 1 só! 😄"
     ]
    }
   ],
   "source": [
    "from langchain_core.messages import HumanMessage, SystemMessage\n",
    "\n",
    "mensagens = [\n",
    "    SystemMessage(content='Você é um assistente que conta piadas.'),\n",
    "    HumanMessage(content='Quanto é 1 + 1?')\n",
    "]\n",
    "for trecho in chat.stream(mensagens):\n",
    "    print(trecho.content, end='')"
   ]
  },
  {
   "attachments": {},
   "cell_type": "markdown",
   "id": "efae899e",
   "metadata": {},
   "source": [
    "Existem 5 tipos diferentes de mensagens:\n",
    "\n",
    "- `HumanMessage`: Isso representa uma mensagem do usuário. Geralmente consiste apenas de conteúdo.\n",
    "\n",
    "- `AIMessage`: Isso representa uma mensagem do modelo. Pode ter additional_kwargs incluídos - por exemplo, tool_calls se estiver usando chamadas de ferramentas da OpenAI.\n",
    "\n",
    "- `SystemMessage`: Isso representa uma mensagem do sistema, que indica ao modelo como se comportar. Geralmente consiste apenas de conteúdo. Nem todo modelo suporta isso.\n",
    "\n",
    "- `FunctionMessage`: Isso representa o resultado de uma chamada de função. Além do papel e conteúdo, esta mensagem tem um parâmetro de nome que transmite o nome da função que foi chamada para produzir este resultado.\n",
    "\n",
    "- `ToolMessage`: Isso representa o resultado de uma chamada de ferramenta. Isso é distinto de uma Mensagem de Função a fim de corresponder aos tipos de mensagens de função e ferramenta da OpenAI. Além do papel e conteúdo, esta mensagem tem um parâmetro tool_call_id que transmite o id da chamada à ferramenta que foi feita para produzir este resultado."
   ]
  },
  {
   "cell_type": "code",
   "execution_count": null,
   "id": "f2efaf41",
   "metadata": {},
   "outputs": [],
   "source": []
  }
 ],
 "metadata": {
  "kernelspec": {
   "display_name": ".venv",
   "language": "python",
   "name": "python3"
  },
  "language_info": {
   "codemirror_mode": {
    "name": "ipython",
    "version": 3
   },
   "file_extension": ".py",
   "mimetype": "text/x-python",
   "name": "python",
   "nbconvert_exporter": "python",
   "pygments_lexer": "ipython3",
   "version": "3.12.4"
  }
 },
 "nbformat": 4,
 "nbformat_minor": 5
}
